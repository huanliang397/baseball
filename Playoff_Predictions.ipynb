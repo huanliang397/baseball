{
 "cells": [
  {
   "cell_type": "code",
   "execution_count": 1,
   "metadata": {},
   "outputs": [
    {
     "name": "stderr",
     "output_type": "stream",
     "text": [
      "/Users/HuanLiang/anaconda3/lib/python3.6/site-packages/statsmodels/compat/pandas.py:56: FutureWarning: The pandas.core.datetools module is deprecated and will be removed in a future version. Please use the pandas.tseries module instead.\n",
      "  from pandas.core import datetools\n"
     ]
    }
   ],
   "source": [
    "import pandas as pd\n",
    "import numpy as np\n",
    "\n",
    "from sklearn.tree import DecisionTreeRegressor\n",
    "from sklearn.ensemble import RandomForestRegressor\n",
    "from sklearn.metrics import mean_absolute_error\n",
    "from sklearn.metrics import mean_squared_error\n",
    "from sklearn.model_selection import train_test_split\n",
    "from sklearn.model_selection import cross_val_score\n",
    "from sklearn.preprocessing.imputation import Imputer\n",
    "from sklearn import datasets\n",
    "from sklearn import model_selection\n",
    "from sklearn.feature_selection import RFE\n",
    "from sklearn.linear_model import LogisticRegression\n",
    "from sklearn.metrics import accuracy_score\n",
    "from xgboost import XGBRegressor\n",
    "\n",
    "import matplotlib.pyplot as plt \n",
    "plt.rc(\"font\", size=14)\n",
    "from matplotlib.colors import ListedColormap\n",
    "import seaborn as sns\n",
    "sns.set(style=\"white\")\n",
    "sns.set(style=\"whitegrid\", color_codes=True)\n",
    "import statsmodels.api as sm\n",
    "\n",
    "baseball_file_path = '/Users/HuanLiang/Desktop/Winning and Baseball/MLB Data v6.csv'\n",
    "baseball_data = pd.read_csv(baseball_file_path)"
   ]
  },
  {
   "cell_type": "markdown",
   "metadata": {},
   "source": [
    "# Introduction\n",
    "\n",
    "This is the extension of the \"winning and revenue in the MLB\" project that I completed in Chicago Booth's Sports Analytics class with Professors Huizinga and Murphy. Unlike my analysis in R, I'd like to try to use economic and performance variables to predict whether a major league baseball team will make the playoffs in the following season. The data is the same data that our team collected for the original project. After reading the analysis, I'd love some feedback on what I did, if you would do anything differently, or anything of that sort."
   ]
  },
  {
   "cell_type": "markdown",
   "metadata": {},
   "source": [
    "## Data Preparation\n",
    "\n",
    "First, we take a look at the data and see which variables make the most sense in predicting revenue. I believe it is important to get an intuitive sense of which factors play the largest role in predicting playoff appearance before performing any visualizations or calculations. What variables make the most sense in predicting the success of a baseball team in the previous year?"
   ]
  },
  {
   "cell_type": "code",
   "execution_count": 2,
   "metadata": {},
   "outputs": [
    {
     "name": "stdout",
     "output_type": "stream",
     "text": [
      "Year\n",
      "Team\n",
      "Year.Team.Variable\n",
      "stadium\n",
      "stadium_built\n",
      "stadium_age\n",
      "capacity\n",
      "yearly_capacity\n",
      "stadium_fill_perc\n",
      "Total_Attendance\n",
      "FCI\n",
      "CPI\n",
      "Real_FCI_2016\n",
      "revenue\n",
      "real_revenue_2016\n",
      "team_value\n",
      "post_season_appearance\n",
      "postseason_nextyear\n",
      "WS_winner\n",
      "prev_3_wins\n",
      "population\n",
      "per_capita_income\n",
      "relative_strength_index\n",
      "Modified_RSI\n",
      "strength_of_schedule\n",
      "Opp_Run_Diff\n",
      "ESPN_SoS\n",
      "Opp_Win_P\n",
      "Team_WAR\n",
      "NumGames\n",
      "W\n",
      "L\n",
      "T\n",
      "RS_total\n",
      "RS_WL\n",
      "RS_WLH\n",
      "RS_WLV\n",
      "RS_T\n",
      "RS_TH\n",
      "RS_TV\n",
      "RA_total\n",
      "RA_WL\n",
      "RA_WLH\n",
      "RA_WLV\n",
      "RA_T\n",
      "RA_TH\n",
      "RA_TV\n",
      "stad_age_1\n",
      "stad_age_2\n",
      "stad_age_3\n",
      "stad_age_4\n",
      "stad_age_5\n",
      "stad_age_6\n",
      "stad_age_7\n",
      "lrg_market\n",
      "mid_market\n",
      "sm_market\n",
      "before_2001\n",
      "Wsqr\n",
      "Wcube\n",
      "LY_RSI\n",
      "LY2_RSI\n",
      "LY3_RSI\n",
      "LY_wins\n",
      "LY2_wins\n",
      "LY3_wins\n",
      "LY_playoffs\n",
      "LY2_playoffs\n",
      "LY3_playoffs\n",
      "LY_WS\n",
      "LY2_WS\n",
      "LY3_WS\n",
      "Wins_below60\n",
      "Wins_60to70\n",
      "Wins_70to80\n",
      "Wins_80to90\n",
      "Wins_90to100\n",
      "LYWins_below60\n",
      "LYWins_60to70\n",
      "LYWins_70to80\n",
      "LYWins_80to90\n",
      "LYWins_90to100\n",
      "LYW_below_95\n",
      "LY4_RSI\n",
      "LY5_RSI\n",
      "LY4_playoffs\n",
      "LY5_playoffs\n",
      "LY_Mod.RSI\n",
      "LY2_Mod.RSI\n",
      "LY3_Mod.RSI\n",
      "LY4_Mod.RSI\n",
      "LY5_Mod.RSI\n",
      "SoSLY\n",
      "SoSLY2\n",
      "SoSLY3\n",
      "SoSLY4\n",
      "SoSLY5.BY.BYBX.CSCV2BZ.CSBW.CSBV.CSCV2BZ.CBM.CS\n",
      "Division\n",
      "League\n",
      "Division.Number.Value\n",
      "Division_Wins_PS\n",
      "League_Wins_PS\n",
      "MLB_Wins_PS\n",
      "Diff_Wins_Division\n",
      "Diff_Win_League\n",
      "Diff_Wins_MLB\n",
      "LY_Modified_RSI\n",
      "LY2_Modified_RSI\n",
      "LY3_Modified_RSI\n",
      "LY4_Modified_RSI\n",
      "LY_ESPN_SoS\n",
      "LY2_ESPN_SoS\n",
      "LY3_ESPN_SoS\n",
      "LY4_ESPN_SoS\n",
      "LYWAR\n",
      "LY2WAR\n",
      "LY3WAR\n",
      "LY4WAR\n",
      "Opp_Run_SD\n",
      "Norm_Opp_Run\n",
      "LYOpprun\n",
      "LY2Opprun\n",
      "LY3Opprun\n",
      "LY4Opprun\n",
      "LYDiff_League\n",
      "LY2Diff_League\n",
      "LY3Diff_League\n",
      "LY4Diff_League\n",
      "LYDiff_Division\n",
      "LY2Diff_Division\n",
      "LY3Diff_Division\n",
      "LY4Diff_Division\n",
      "Rev_Delta\n",
      "D\n",
      "two_teams\n",
      "Quant_ESPN_SoS\n",
      "Quant_RPI\n",
      "Quant_SoS\n",
      "Quant_Run_Diff\n",
      "Operating.Income\n",
      "Real.Operating.Income\n",
      "LY_Opp_Win_P\n",
      "LY2_Opp_Win_P\n",
      "LY3_Opp_Win_P\n",
      "LY4_Opp_Win_P\n",
      "LY5_Opp_Win_P\n",
      "LY4_WS\n",
      "LY5_WS\n",
      "SoSLY5\n",
      "LY4_wins\n",
      "LY5_wins\n",
      "Forbes Revenue\n",
      "Real_Forbes_Rev\n"
     ]
    }
   ],
   "source": [
    "for i in baseball_data.columns:\n",
    "    print(i)"
   ]
  },
  {
   "cell_type": "markdown",
   "metadata": {},
   "source": [
    "I used a for loop to display all the columns headings. From the printed headings, I picked the headings that I thought made the most sense. For example, wins determine success but revenue and attendance might also affect the overall \"success\" of a team. High attendance means that the team is worth watching. High revenue means that the team is able to purchase good players. Note that the dependent variable is the postseason_nextyear variable."
   ]
  },
  {
   "cell_type": "code",
   "execution_count": 3,
   "metadata": {},
   "outputs": [],
   "source": [
    "baseball_vars = ['real_revenue_2016', 'W', 'Total_Attendance', 'per_capita_income', 'RS_total', \n",
    "                     'stadium_age', 'post_season_appearance', 'postseason_nextyear',\n",
    "                     'RA_total']\n",
    "baseball_pred_data = baseball_data[baseball_vars]\n",
    "y = baseball_pred_data.postseason_nextyear\n",
    "predictors = ['real_revenue_2016', 'W', 'Total_Attendance', 'per_capita_income', 'RS_total', \n",
    "                     'stadium_age', 'post_season_appearance',\n",
    "                     'RA_total']\n",
    "X = baseball_data[predictors]"
   ]
  },
  {
   "cell_type": "code",
   "execution_count": 4,
   "metadata": {},
   "outputs": [
    {
     "data": {
      "text/html": [
       "<div>\n",
       "<style scoped>\n",
       "    .dataframe tbody tr th:only-of-type {\n",
       "        vertical-align: middle;\n",
       "    }\n",
       "\n",
       "    .dataframe tbody tr th {\n",
       "        vertical-align: top;\n",
       "    }\n",
       "\n",
       "    .dataframe thead th {\n",
       "        text-align: right;\n",
       "    }\n",
       "</style>\n",
       "<table border=\"1\" class=\"dataframe\">\n",
       "  <thead>\n",
       "    <tr style=\"text-align: right;\">\n",
       "      <th></th>\n",
       "      <th>real_revenue_2016</th>\n",
       "      <th>W</th>\n",
       "      <th>Total_Attendance</th>\n",
       "      <th>per_capita_income</th>\n",
       "      <th>RS_total</th>\n",
       "      <th>stadium_age</th>\n",
       "      <th>post_season_appearance</th>\n",
       "      <th>postseason_nextyear</th>\n",
       "      <th>RA_total</th>\n",
       "    </tr>\n",
       "  </thead>\n",
       "  <tbody>\n",
       "    <tr>\n",
       "      <th>count</th>\n",
       "      <td>6.980000e+02</td>\n",
       "      <td>698.000000</td>\n",
       "      <td>6.980000e+02</td>\n",
       "      <td>698.000000</td>\n",
       "      <td>698.00000</td>\n",
       "      <td>698.000000</td>\n",
       "      <td>698.000000</td>\n",
       "      <td>698.000000</td>\n",
       "      <td>698.000000</td>\n",
       "    </tr>\n",
       "    <tr>\n",
       "      <th>mean</th>\n",
       "      <td>1.209168e+08</td>\n",
       "      <td>79.746418</td>\n",
       "      <td>2.398896e+06</td>\n",
       "      <td>40820.861676</td>\n",
       "      <td>740.82235</td>\n",
       "      <td>27.229226</td>\n",
       "      <td>0.256447</td>\n",
       "      <td>0.262178</td>\n",
       "      <td>740.085960</td>\n",
       "    </tr>\n",
       "    <tr>\n",
       "      <th>std</th>\n",
       "      <td>5.707538e+07</td>\n",
       "      <td>12.264196</td>\n",
       "      <td>7.074398e+05</td>\n",
       "      <td>11233.024234</td>\n",
       "      <td>92.86965</td>\n",
       "      <td>25.461968</td>\n",
       "      <td>0.436985</td>\n",
       "      <td>0.440134</td>\n",
       "      <td>97.410952</td>\n",
       "    </tr>\n",
       "    <tr>\n",
       "      <th>min</th>\n",
       "      <td>3.005903e+07</td>\n",
       "      <td>43.000000</td>\n",
       "      <td>8.131270e+05</td>\n",
       "      <td>21903.000000</td>\n",
       "      <td>466.00000</td>\n",
       "      <td>1.000000</td>\n",
       "      <td>0.000000</td>\n",
       "      <td>0.000000</td>\n",
       "      <td>448.000000</td>\n",
       "    </tr>\n",
       "    <tr>\n",
       "      <th>25%</th>\n",
       "      <td>7.879968e+07</td>\n",
       "      <td>71.000000</td>\n",
       "      <td>1.821472e+06</td>\n",
       "      <td>32214.000000</td>\n",
       "      <td>679.00000</td>\n",
       "      <td>9.000000</td>\n",
       "      <td>0.000000</td>\n",
       "      <td>0.000000</td>\n",
       "      <td>674.000000</td>\n",
       "    </tr>\n",
       "    <tr>\n",
       "      <th>50%</th>\n",
       "      <td>1.079515e+08</td>\n",
       "      <td>80.000000</td>\n",
       "      <td>2.352582e+06</td>\n",
       "      <td>40117.850000</td>\n",
       "      <td>739.50000</td>\n",
       "      <td>19.000000</td>\n",
       "      <td>0.000000</td>\n",
       "      <td>0.000000</td>\n",
       "      <td>739.000000</td>\n",
       "    </tr>\n",
       "    <tr>\n",
       "      <th>75%</th>\n",
       "      <td>1.515427e+08</td>\n",
       "      <td>89.000000</td>\n",
       "      <td>2.949038e+06</td>\n",
       "      <td>48017.250000</td>\n",
       "      <td>801.00000</td>\n",
       "      <td>36.000000</td>\n",
       "      <td>1.000000</td>\n",
       "      <td>1.000000</td>\n",
       "      <td>807.500000</td>\n",
       "    </tr>\n",
       "    <tr>\n",
       "      <th>max</th>\n",
       "      <td>4.274713e+08</td>\n",
       "      <td>116.000000</td>\n",
       "      <td>4.446678e+06</td>\n",
       "      <td>84675.000000</td>\n",
       "      <td>1009.00000</td>\n",
       "      <td>105.000000</td>\n",
       "      <td>1.000000</td>\n",
       "      <td>1.000000</td>\n",
       "      <td>1103.000000</td>\n",
       "    </tr>\n",
       "  </tbody>\n",
       "</table>\n",
       "</div>"
      ],
      "text/plain": [
       "       real_revenue_2016           W  Total_Attendance  per_capita_income  \\\n",
       "count       6.980000e+02  698.000000      6.980000e+02         698.000000   \n",
       "mean        1.209168e+08   79.746418      2.398896e+06       40820.861676   \n",
       "std         5.707538e+07   12.264196      7.074398e+05       11233.024234   \n",
       "min         3.005903e+07   43.000000      8.131270e+05       21903.000000   \n",
       "25%         7.879968e+07   71.000000      1.821472e+06       32214.000000   \n",
       "50%         1.079515e+08   80.000000      2.352582e+06       40117.850000   \n",
       "75%         1.515427e+08   89.000000      2.949038e+06       48017.250000   \n",
       "max         4.274713e+08  116.000000      4.446678e+06       84675.000000   \n",
       "\n",
       "         RS_total  stadium_age  post_season_appearance  postseason_nextyear  \\\n",
       "count   698.00000   698.000000              698.000000           698.000000   \n",
       "mean    740.82235    27.229226                0.256447             0.262178   \n",
       "std      92.86965    25.461968                0.436985             0.440134   \n",
       "min     466.00000     1.000000                0.000000             0.000000   \n",
       "25%     679.00000     9.000000                0.000000             0.000000   \n",
       "50%     739.50000    19.000000                0.000000             0.000000   \n",
       "75%     801.00000    36.000000                1.000000             1.000000   \n",
       "max    1009.00000   105.000000                1.000000             1.000000   \n",
       "\n",
       "          RA_total  \n",
       "count   698.000000  \n",
       "mean    740.085960  \n",
       "std      97.410952  \n",
       "min     448.000000  \n",
       "25%     674.000000  \n",
       "50%     739.000000  \n",
       "75%     807.500000  \n",
       "max    1103.000000  "
      ]
     },
     "execution_count": 4,
     "metadata": {},
     "output_type": "execute_result"
    }
   ],
   "source": [
    "baseball_pred_data.describe()"
   ]
  },
  {
   "cell_type": "markdown",
   "metadata": {},
   "source": [
    "Now we have a snapshot of our explanatory variables, let's explore our data even further and determine which variables it makes sense to include in our model."
   ]
  },
  {
   "cell_type": "markdown",
   "metadata": {},
   "source": [
    "## Dependent Variable exploration\n",
    "\n",
    "Now, let's take a closer look at our dependent variable: postseason_nextyear. Of course, a one means that the team made the postseason the following year, and a zero means the opposite."
   ]
  },
  {
   "cell_type": "code",
   "execution_count": 5,
   "metadata": {},
   "outputs": [
    {
     "data": {
      "text/plain": [
       "0    515\n",
       "1    183\n",
       "Name: postseason_nextyear, dtype: int64"
      ]
     },
     "execution_count": 5,
     "metadata": {},
     "output_type": "execute_result"
    }
   ],
   "source": [
    "y.value_counts()"
   ]
  },
  {
   "cell_type": "code",
   "execution_count": 6,
   "metadata": {},
   "outputs": [
    {
     "data": {
      "text/plain": [
       "<matplotlib.axes._subplots.AxesSubplot at 0x11ccedb70>"
      ]
     },
     "execution_count": 6,
     "metadata": {},
     "output_type": "execute_result"
    },
    {
     "data": {
      "image/png": "[encoded data removed]",
      "text/plain": [
       "<matplotlib.figure.Figure at 0x11c8e70f0>"
      ]
     },
     "metadata": {},
     "output_type": "display_data"
    }
   ],
   "source": [
    "sns.countplot(y)\n"
   ]
  },
  {
   "cell_type": "markdown",
   "metadata": {},
   "source": [
    "As expected, there are more than twice the number of teams that failed to make the playoffs as opposed to number of teams that did make the playoffs in the following year. Of course, out of about thirty teams in the MLB each season, only eight teams make the playoffs. Now, what is so special about these teams? Let's take a look by grouping the data based on our dependent variable."
   ]
  },
  {
   "cell_type": "code",
   "execution_count": 7,
   "metadata": {},
   "outputs": [
    {
     "data": {
      "text/html": [
       "<div>\n",
       "<style scoped>\n",
       "    .dataframe tbody tr th:only-of-type {\n",
       "        vertical-align: middle;\n",
       "    }\n",
       "\n",
       "    .dataframe tbody tr th {\n",
       "        vertical-align: top;\n",
       "    }\n",
       "\n",
       "    .dataframe thead th {\n",
       "        text-align: right;\n",
       "    }\n",
       "</style>\n",
       "<table border=\"1\" class=\"dataframe\">\n",
       "  <thead>\n",
       "    <tr style=\"text-align: right;\">\n",
       "      <th></th>\n",
       "      <th>real_revenue_2016</th>\n",
       "      <th>W</th>\n",
       "      <th>Total_Attendance</th>\n",
       "      <th>per_capita_income</th>\n",
       "      <th>RS_total</th>\n",
       "      <th>stadium_age</th>\n",
       "      <th>post_season_appearance</th>\n",
       "      <th>RA_total</th>\n",
       "    </tr>\n",
       "    <tr>\n",
       "      <th>postseason_nextyear</th>\n",
       "      <th></th>\n",
       "      <th></th>\n",
       "      <th></th>\n",
       "      <th></th>\n",
       "      <th></th>\n",
       "      <th></th>\n",
       "      <th></th>\n",
       "      <th></th>\n",
       "    </tr>\n",
       "  </thead>\n",
       "  <tbody>\n",
       "    <tr>\n",
       "      <th>0</th>\n",
       "      <td>1.123147e+08</td>\n",
       "      <td>77.695146</td>\n",
       "      <td>2.292807e+06</td>\n",
       "      <td>40482.961223</td>\n",
       "      <td>731.058252</td>\n",
       "      <td>24.809709</td>\n",
       "      <td>0.182524</td>\n",
       "      <td>751.007767</td>\n",
       "    </tr>\n",
       "    <tr>\n",
       "      <th>1</th>\n",
       "      <td>1.451247e+08</td>\n",
       "      <td>85.519126</td>\n",
       "      <td>2.697451e+06</td>\n",
       "      <td>41771.783716</td>\n",
       "      <td>768.300546</td>\n",
       "      <td>34.038251</td>\n",
       "      <td>0.464481</td>\n",
       "      <td>709.349727</td>\n",
       "    </tr>\n",
       "  </tbody>\n",
       "</table>\n",
       "</div>"
      ],
      "text/plain": [
       "                     real_revenue_2016          W  Total_Attendance  \\\n",
       "postseason_nextyear                                                   \n",
       "0                         1.123147e+08  77.695146      2.292807e+06   \n",
       "1                         1.451247e+08  85.519126      2.697451e+06   \n",
       "\n",
       "                     per_capita_income    RS_total  stadium_age  \\\n",
       "postseason_nextyear                                               \n",
       "0                         40482.961223  731.058252    24.809709   \n",
       "1                         41771.783716  768.300546    34.038251   \n",
       "\n",
       "                     post_season_appearance    RA_total  \n",
       "postseason_nextyear                                      \n",
       "0                                  0.182524  751.007767  \n",
       "1                                  0.464481  709.349727  "
      ]
     },
     "execution_count": 7,
     "metadata": {},
     "output_type": "execute_result"
    }
   ],
   "source": [
    "baseball_pred_data.groupby('postseason_nextyear').mean()"
   ]
  },
  {
   "cell_type": "code",
   "execution_count": 8,
   "metadata": {},
   "outputs": [
    {
     "data": {
      "text/html": [
       "<div>\n",
       "<style scoped>\n",
       "    .dataframe tbody tr th:only-of-type {\n",
       "        vertical-align: middle;\n",
       "    }\n",
       "\n",
       "    .dataframe tbody tr th {\n",
       "        vertical-align: top;\n",
       "    }\n",
       "\n",
       "    .dataframe thead th {\n",
       "        text-align: right;\n",
       "    }\n",
       "</style>\n",
       "<table border=\"1\" class=\"dataframe\">\n",
       "  <thead>\n",
       "    <tr style=\"text-align: right;\">\n",
       "      <th></th>\n",
       "      <th>real_revenue_2016</th>\n",
       "      <th>W</th>\n",
       "      <th>Total_Attendance</th>\n",
       "      <th>per_capita_income</th>\n",
       "      <th>RS_total</th>\n",
       "      <th>stadium_age</th>\n",
       "      <th>post_season_appearance</th>\n",
       "      <th>RA_total</th>\n",
       "    </tr>\n",
       "    <tr>\n",
       "      <th>postseason_nextyear</th>\n",
       "      <th></th>\n",
       "      <th></th>\n",
       "      <th></th>\n",
       "      <th></th>\n",
       "      <th></th>\n",
       "      <th></th>\n",
       "      <th></th>\n",
       "      <th></th>\n",
       "    </tr>\n",
       "  </thead>\n",
       "  <tbody>\n",
       "    <tr>\n",
       "      <th>0</th>\n",
       "      <td>102145267.3</td>\n",
       "      <td>78</td>\n",
       "      <td>2249201</td>\n",
       "      <td>39870.0</td>\n",
       "      <td>730</td>\n",
       "      <td>17</td>\n",
       "      <td>0</td>\n",
       "      <td>751</td>\n",
       "    </tr>\n",
       "    <tr>\n",
       "      <th>1</th>\n",
       "      <td>138675492.9</td>\n",
       "      <td>87</td>\n",
       "      <td>2776531</td>\n",
       "      <td>42006.0</td>\n",
       "      <td>772</td>\n",
       "      <td>25</td>\n",
       "      <td>0</td>\n",
       "      <td>705</td>\n",
       "    </tr>\n",
       "  </tbody>\n",
       "</table>\n",
       "</div>"
      ],
      "text/plain": [
       "                     real_revenue_2016   W  Total_Attendance  \\\n",
       "postseason_nextyear                                            \n",
       "0                          102145267.3  78           2249201   \n",
       "1                          138675492.9  87           2776531   \n",
       "\n",
       "                     per_capita_income  RS_total  stadium_age  \\\n",
       "postseason_nextyear                                             \n",
       "0                              39870.0       730           17   \n",
       "1                              42006.0       772           25   \n",
       "\n",
       "                     post_season_appearance  RA_total  \n",
       "postseason_nextyear                                    \n",
       "0                                         0       751  \n",
       "1                                         0       705  "
      ]
     },
     "execution_count": 8,
     "metadata": {},
     "output_type": "execute_result"
    }
   ],
   "source": [
    "baseball_pred_data.groupby('postseason_nextyear').median()"
   ]
  },
  {
   "cell_type": "markdown",
   "metadata": {},
   "source": [
    "Wow! The mean and the median show similar insights. For example, data where postseason_nextyear = 1 had higher revenue, more wins, more attendance, higher income, scored more runs and had fewer runs scored against them. The stadium age seems a big odd, as teams with older stadiums seem to make the playoffs in the following season more often. Perhaps older stadiums means more established teams? There's a lot of things to take into consideration here. Now, let's use seaborn to visualize the distributions of the explanatory variables given postseason_nextyear = 0 and postseason_nextyear = 1."
   ]
  },
  {
   "cell_type": "markdown",
   "metadata": {},
   "source": [
    "## Data Visualization\n",
    "\n",
    "Let's take a look at the distributions, starting with revenue."
   ]
  },
  {
   "cell_type": "code",
   "execution_count": 9,
   "metadata": {},
   "outputs": [
    {
     "data": {
      "text/plain": [
       "<matplotlib.axes._subplots.AxesSubplot at 0x11cd365f8>"
      ]
     },
     "execution_count": 9,
     "metadata": {},
     "output_type": "execute_result"
    },
    {
     "data": {
      "image/png": "[encoded data removed]",
      "text/plain": [
       "<matplotlib.figure.Figure at 0x11cd25c18>"
      ]
     },
     "metadata": {},
     "output_type": "display_data"
    }
   ],
   "source": [
    "sns.distplot(baseball_pred_data.real_revenue_2016.loc[y == 0] , color=\"skyblue\")\n",
    "sns.distplot(baseball_pred_data.real_revenue_2016.loc[y == 1], color=\"blue\")"
   ]
  },
  {
   "cell_type": "markdown",
   "metadata": {},
   "source": [
    "Looking at revenue alone, playoff teams are shifted to the right in the revenue axis. There is also a more even spread in the dark blue distribution. Non-playoff teams have a spike in revenue and is less uniform. Let's take a look at the distribution of wins."
   ]
  },
  {
   "cell_type": "code",
   "execution_count": 10,
   "metadata": {},
   "outputs": [
    {
     "data": {
      "text/plain": [
       "<matplotlib.axes._subplots.AxesSubplot at 0x11cef0dd8>"
      ]
     },
     "execution_count": 10,
     "metadata": {},
     "output_type": "execute_result"
    },
    {
     "data": {
      "image/png": "[encoded data removed]",
      "text/plain": [
       "<matplotlib.figure.Figure at 0x11ce42278>"
      ]
     },
     "metadata": {},
     "output_type": "display_data"
    }
   ],
   "source": [
    "sns.distplot(baseball_pred_data.W.loc[y == 0] , color=\"skyblue\")\n",
    "sns.distplot(baseball_pred_data.W.loc[y == 1], color=\"blue\")"
   ]
  },
  {
   "cell_type": "markdown",
   "metadata": {},
   "source": [
    "This shift is much more apparent, and rightfully so. Success of a team often transfers to the following year. What about total attendance?"
   ]
  },
  {
   "cell_type": "code",
   "execution_count": 11,
   "metadata": {},
   "outputs": [
    {
     "data": {
      "text/plain": [
       "<matplotlib.axes._subplots.AxesSubplot at 0x11cda0f98>"
      ]
     },
     "execution_count": 11,
     "metadata": {},
     "output_type": "execute_result"
    },
    {
     "data": {
      "image/png": "[encoded data removed]",
      "text/plain": [
       "<matplotlib.figure.Figure at 0x11cfa02b0>"
      ]
     },
     "metadata": {},
     "output_type": "display_data"
    }
   ],
   "source": [
    "sns.distplot(baseball_pred_data.Total_Attendance.loc[y == 0] , color=\"skyblue\")\n",
    "sns.distplot(baseball_pred_data.Total_Attendance.loc[y == 1], color=\"blue\")"
   ]
  },
  {
   "cell_type": "markdown",
   "metadata": {},
   "source": [
    "More people show up to successful team's game, but the size of the stadium is factored into this. For example, if two teams are equally successful, the team with the larger stadium should have a greater total attendance. What about per capital income of the metropolitan area that the team is located?"
   ]
  },
  {
   "cell_type": "code",
   "execution_count": 12,
   "metadata": {},
   "outputs": [
    {
     "data": {
      "text/plain": [
       "<matplotlib.axes._subplots.AxesSubplot at 0x11f3bc4e0>"
      ]
     },
     "execution_count": 12,
     "metadata": {},
     "output_type": "execute_result"
    },
    {
     "data": {
      "image/png": "[encoded data removed]",
      "text/plain": [
       "<matplotlib.figure.Figure at 0x11f38d048>"
      ]
     },
     "metadata": {},
     "output_type": "display_data"
    }
   ],
   "source": [
    "sns.distplot(baseball_pred_data.per_capita_income.loc[y == 0] , color=\"skyblue\")\n",
    "sns.distplot(baseball_pred_data.per_capita_income.loc[y == 1], color=\"blue\")"
   ]
  },
  {
   "cell_type": "markdown",
   "metadata": {},
   "source": [
    "This I find extremely interesting. I would think that teams in wealthier areas pay more for tickets and the teams are richer as a result. Can't richer teams afford to buy better players? Now, how about runs scored?"
   ]
  },
  {
   "cell_type": "code",
   "execution_count": 13,
   "metadata": {},
   "outputs": [
    {
     "data": {
      "text/plain": [
       "<matplotlib.axes._subplots.AxesSubplot at 0x11f4b6d30>"
      ]
     },
     "execution_count": 13,
     "metadata": {},
     "output_type": "execute_result"
    },
    {
     "data": {
      "image/png": "[encoded data removed]",
      "text/plain": [
       "<matplotlib.figure.Figure at 0x11f4a7a58>"
      ]
     },
     "metadata": {},
     "output_type": "display_data"
    }
   ],
   "source": [
    "sns.distplot(baseball_pred_data.RS_total.loc[y == 0] , color=\"skyblue\")\n",
    "sns.distplot(baseball_pred_data.RS_total.loc[y == 1], color=\"blue\")"
   ]
  },
  {
   "cell_type": "markdown",
   "metadata": {},
   "source": [
    "This overall makes sense, as teams with more runs scored and better \"offense\" will win more games and have a greater chance of entering the playoffs. What about stadium age?"
   ]
  },
  {
   "cell_type": "code",
   "execution_count": 14,
   "metadata": {},
   "outputs": [
    {
     "data": {
      "text/plain": [
       "<matplotlib.axes._subplots.AxesSubplot at 0x11f53dfd0>"
      ]
     },
     "execution_count": 14,
     "metadata": {},
     "output_type": "execute_result"
    },
    {
     "data": {
      "image/png": "[encoded data removed]",
      "text/plain": [
       "<matplotlib.figure.Figure at 0x11f4a26d8>"
      ]
     },
     "metadata": {},
     "output_type": "display_data"
    }
   ],
   "source": [
    "sns.distplot(baseball_pred_data.stadium_age.loc[y == 0] , color=\"skyblue\")\n",
    "sns.distplot(baseball_pred_data.stadium_age.loc[y == 1], color=\"blue\")"
   ]
  },
  {
   "cell_type": "markdown",
   "metadata": {},
   "source": [
    "It doesn't look like there's a huge difference here. Perhaps one thing to notice is that playoffs teams have a more uniform distribution when it comes to stadium age. Lastly, does making the playoffs the current year affect their chances next year?"
   ]
  },
  {
   "cell_type": "code",
   "execution_count": 15,
   "metadata": {},
   "outputs": [
    {
     "data": {
      "text/plain": [
       "<matplotlib.axes._subplots.AxesSubplot at 0x11f92f080>"
      ]
     },
     "execution_count": 15,
     "metadata": {},
     "output_type": "execute_result"
    },
    {
     "data": {
      "image/png": "[encoded data removed]",
      "text/plain": [
       "<matplotlib.figure.Figure at 0x11f858a58>"
      ]
     },
     "metadata": {},
     "output_type": "display_data"
    }
   ],
   "source": [
    "fig, (ax1, ax2) = plt.subplots(ncols=2, sharey=True)\n",
    "sns.countplot(baseball_pred_data.post_season_appearance.loc[y == 0], ax = ax1, color=\"skyblue\")\n",
    "sns.countplot(baseball_pred_data.post_season_appearance.loc[y == 1], ax = ax2, color=\"blue\")"
   ]
  },
  {
   "cell_type": "markdown",
   "metadata": {},
   "source": [
    "This is also surprising. I would think that more teams that made the playoffs the previous year would make it the following the year, but the numbers are about even. So, even if a team makes the playoffs, they are nowhere near guaranteed to make the playoffs the following year. However, if the team does not make the playoffs the current year, they are much less likely to make the playoffs the following year. Now that we had a chance to look at the data visuals, let's begin constructing our model."
   ]
  },
  {
   "cell_type": "markdown",
   "metadata": {},
   "source": [
    "## Model Building\n",
    "\n",
    "The only categorical variable is post_season_appearance, and the data was already transformed when the data was loaded on to pandas. Specifically, if the team made the playoffs that year, then they receive a one. If the team failed to make the playoffs, then they get a zero. Using the \"Recursive Feature Elimination\" algorithm, I can rank my predictor variables in terms of importance. To be honest, I am not completely sure on what basis the algorithm ranks the predictors on. I used a similar algorithm in R, where the basis on choosing variables was on the $R^{2}$ value."
   ]
  },
  {
   "cell_type": "code",
   "execution_count": 16,
   "metadata": {},
   "outputs": [
    {
     "name": "stdout",
     "output_type": "stream",
     "text": [
      "[6 1 5 4 3 7 8 2]\n"
     ]
    }
   ],
   "source": [
    "logreg = LogisticRegression()\n",
    "rfe = RFE(logreg, 1)\n",
    "rfe = rfe.fit(X, y)\n",
    "print(rfe.ranking_)"
   ]
  },
  {
   "cell_type": "markdown",
   "metadata": {},
   "source": [
    "To be honest, this doesn't tell me much. I can choose the top 3 or 4 or 5 or whatever, but what is that magic number? I found that often three variables creates the highest number of correct classifications (http://scikit-learn.org/stable/auto_examples/feature_selection/plot_rfe_with_cross_validation.html), but let's use statistics to investigate this further."
   ]
  },
  {
   "cell_type": "code",
   "execution_count": 53,
   "metadata": {},
   "outputs": [
    {
     "name": "stdout",
     "output_type": "stream",
     "text": [
      "Optimization terminated successfully.\n",
      "         Current function value: 0.502253\n",
      "         Iterations 6\n"
     ]
    },
    {
     "data": {
      "text/html": [
       "<table class=\"simpletable\">\n",
       "<tr>\n",
       "        <td>Model:</td>               <td>Logit</td>         <td>No. Iterations:</td>   <td>6.0000</td> \n",
       "</tr>\n",
       "<tr>\n",
       "  <td>Dependent Variable:</td> <td>postseason_nextyear</td> <td>Pseudo R-squared:</td>   <td>0.127</td> \n",
       "</tr>\n",
       "<tr>\n",
       "         <td>Date:</td>         <td>2018-09-19 20:38</td>         <td>AIC:</td>        <td>717.1457</td>\n",
       "</tr>\n",
       "<tr>\n",
       "   <td>No. Observations:</td>          <td>698</td>               <td>BIC:</td>        <td>753.5314</td>\n",
       "</tr>\n",
       "<tr>\n",
       "       <td>Df Model:</td>               <td>7</td>           <td>Log-Likelihood:</td>   <td>-350.57</td>\n",
       "</tr>\n",
       "<tr>\n",
       "     <td>Df Residuals:</td>            <td>690</td>             <td>LL-Null:</td>       <td>-401.58</td>\n",
       "</tr>\n",
       "<tr>\n",
       "      <td>Converged:</td>            <td>1.0000</td>             <td>Scale:</td>        <td>1.0000</td> \n",
       "</tr>\n",
       "</table>\n",
       "<table class=\"simpletable\">\n",
       "<tr>\n",
       "             <td></td>             <th>Coef.</th>  <th>Std.Err.</th>    <th>z</th>     <th>P>|z|</th> <th>[0.025</th>  <th>0.975]</th> \n",
       "</tr>\n",
       "<tr>\n",
       "  <th>real_revenue_2016</th>      <td>0.0000</td>   <td>0.0000</td>  <td>0.7386</td>  <td>0.4602</td> <td>-0.0000</td> <td>0.0000</td> \n",
       "</tr>\n",
       "<tr>\n",
       "  <th>W</th>                      <td>-0.0268</td>  <td>0.0142</td>  <td>-1.8938</td> <td>0.0583</td> <td>-0.0546</td> <td>0.0009</td> \n",
       "</tr>\n",
       "<tr>\n",
       "  <th>Total_Attendance</th>       <td>0.0000</td>   <td>0.0000</td>  <td>1.0109</td>  <td>0.3121</td> <td>-0.0000</td> <td>0.0000</td> \n",
       "</tr>\n",
       "<tr>\n",
       "  <th>per_capita_income</th>      <td>-0.0000</td>  <td>0.0000</td>  <td>-0.0126</td> <td>0.9899</td> <td>-0.0000</td> <td>0.0000</td> \n",
       "</tr>\n",
       "<tr>\n",
       "  <th>RS_total</th>               <td>0.0074</td>   <td>0.0022</td>  <td>3.4508</td>  <td>0.0006</td> <td>0.0032</td>  <td>0.0117</td> \n",
       "</tr>\n",
       "<tr>\n",
       "  <th>stadium_age</th>            <td>0.0074</td>   <td>0.0036</td>  <td>2.0476</td>  <td>0.0406</td> <td>0.0003</td>  <td>0.0145</td> \n",
       "</tr>\n",
       "<tr>\n",
       "  <th>post_season_appearance</th> <td>0.4854</td>   <td>0.2629</td>  <td>1.8463</td>  <td>0.0648</td> <td>-0.0299</td> <td>1.0007</td> \n",
       "</tr>\n",
       "<tr>\n",
       "  <th>RA_total</th>               <td>-0.0080</td>  <td>0.0015</td>  <td>-5.4469</td> <td>0.0000</td> <td>-0.0108</td> <td>-0.0051</td>\n",
       "</tr>\n",
       "</table>"
      ],
      "text/plain": [
       "<class 'statsmodels.iolib.summary2.Summary'>\n",
       "\"\"\"\n",
       "                            Results: Logit\n",
       "======================================================================\n",
       "Model:                Logit                No. Iterations:    6.0000  \n",
       "Dependent Variable:   postseason_nextyear  Pseudo R-squared:  0.127   \n",
       "Date:                 2018-09-19 20:38     AIC:               717.1457\n",
       "No. Observations:     698                  BIC:               753.5314\n",
       "Df Model:             7                    Log-Likelihood:    -350.57 \n",
       "Df Residuals:         690                  LL-Null:           -401.58 \n",
       "Converged:            1.0000               Scale:             1.0000  \n",
       "----------------------------------------------------------------------\n",
       "                        Coef.  Std.Err.    z    P>|z|   [0.025  0.975]\n",
       "----------------------------------------------------------------------\n",
       "real_revenue_2016       0.0000   0.0000  0.7386 0.4602 -0.0000  0.0000\n",
       "W                      -0.0268   0.0142 -1.8938 0.0583 -0.0546  0.0009\n",
       "Total_Attendance        0.0000   0.0000  1.0109 0.3121 -0.0000  0.0000\n",
       "per_capita_income      -0.0000   0.0000 -0.0126 0.9899 -0.0000  0.0000\n",
       "RS_total                0.0074   0.0022  3.4508 0.0006  0.0032  0.0117\n",
       "stadium_age             0.0074   0.0036  2.0476 0.0406  0.0003  0.0145\n",
       "post_season_appearance  0.4854   0.2629  1.8463 0.0648 -0.0299  1.0007\n",
       "RA_total               -0.0080   0.0015 -5.4469 0.0000 -0.0108 -0.0051\n",
       "======================================================================\n",
       "\n",
       "\"\"\""
      ]
     },
     "execution_count": 53,
     "metadata": {},
     "output_type": "execute_result"
    }
   ],
   "source": [
    "logit_model = sm.Logit(y, X)\n",
    "result = logit_model.fit()\n",
    "result.summary2()"
   ]
  },
  {
   "cell_type": "markdown",
   "metadata": {},
   "source": [
    "There are some interesting p values here that I would not have guessed. For per capita income, I guessed that it would not affect future playoff probability since the distributions on the histograms above were too similar. However, for revenue, I did not expect the p value to be that big. You'd think that with more revenue, a team is able to buy more players, and as a result, create better chances to make the playoffs. One logical explanation could be that high revenue may be due to fan loyalty, but they team performance may still be poor year after year. I mainly think of the Chicago Cubs (except recently)."
   ]
  },
  {
   "cell_type": "markdown",
   "metadata": {},
   "source": [
    "Anyway, let's keep the variables where the p-value is below $0.1$ for now and create our logistic regression model. This means that the probability that our data is simply a lucky deviation from the real mean (in our model, it's zero) is low, and as a result, we can reject the null hypothesis that the coefficients for the variables is zero. "
   ]
  },
  {
   "cell_type": "code",
   "execution_count": 17,
   "metadata": {},
   "outputs": [
    {
     "data": {
      "text/plain": [
       "LogisticRegression(C=1.0, class_weight=None, dual=False, fit_intercept=True,\n",
       "          intercept_scaling=1, max_iter=100, multi_class='ovr', n_jobs=1,\n",
       "          penalty='l2', random_state=None, solver='liblinear', tol=0.0001,\n",
       "          verbose=0, warm_start=False)"
      ]
     },
     "execution_count": 17,
     "metadata": {},
     "output_type": "execute_result"
    }
   ],
   "source": [
    "new_vars = ['W', 'RS_total', 'stadium_age', 'post_season_appearance', 'RA_total']\n",
    "X1 = baseball_data[new_vars]\n",
    "X_train, X_test, y_train, y_test = train_test_split(X1, y, test_size = 0.3, random_state = 0)\n",
    "logreg.fit(X_train, y_train)"
   ]
  },
  {
   "cell_type": "code",
   "execution_count": 18,
   "metadata": {},
   "outputs": [
    {
     "name": "stdout",
     "output_type": "stream",
     "text": [
      "Accuracy of logistic regression classifier on test set: 0.76\n"
     ]
    }
   ],
   "source": [
    "y_pred = logreg.predict(X_test)\n",
    "print('Accuracy of logistic regression classifier on test set: {:.2f}'.format(logreg.score(X_test, y_test)))"
   ]
  },
  {
   "cell_type": "markdown",
   "metadata": {},
   "source": [
    "Honestly, this is better than I thought. Out of the four predictions, three were correct. However, the amount of data that we have is small. We only have baseball data going back to the early 90's. The score that we got could literally be from noise. It should be beneficial to cross validate our model."
   ]
  },
  {
   "cell_type": "code",
   "execution_count": 19,
   "metadata": {},
   "outputs": [
    {
     "name": "stdout",
     "output_type": "stream",
     "text": [
      "5-fold cross validation average accuracy: 0.754\n"
     ]
    }
   ],
   "source": [
    "kfold = model_selection.KFold(n_splits=5, random_state=0)\n",
    "modelCV = LogisticRegression()\n",
    "results = model_selection.cross_val_score(modelCV, X_train, y_train, cv=kfold, scoring='accuracy')\n",
    "print(\"5-fold cross validation average accuracy: %.3f\" % (results.mean()))"
   ]
  },
  {
   "cell_type": "markdown",
   "metadata": {},
   "source": [
    "Since the train test split and the cross validation score are similar, we can assume that our model generalizes pretty well. Let's take a look at a confusion matrix."
   ]
  },
  {
   "cell_type": "code",
   "execution_count": 20,
   "metadata": {},
   "outputs": [
    {
     "name": "stdout",
     "output_type": "stream",
     "text": [
      "[[152   9]\n",
      " [ 41   8]]\n"
     ]
    }
   ],
   "source": [
    "from sklearn.metrics import confusion_matrix\n",
    "confusion_matrix = confusion_matrix(y_test, y_pred)\n",
    "print(confusion_matrix)"
   ]
  },
  {
   "cell_type": "markdown",
   "metadata": {},
   "source": [
    "Out of the 210 predictions, 160 was correct while 50 was incorrect. 152 no playoff teams were correctly predicted, while 8 playoff teams were predicted correctly. Now, let's take a look at the classification report. "
   ]
  },
  {
   "cell_type": "code",
   "execution_count": 21,
   "metadata": {},
   "outputs": [
    {
     "name": "stdout",
     "output_type": "stream",
     "text": [
      "             precision    recall  f1-score   support\n",
      "\n",
      "          0       0.79      0.94      0.86       161\n",
      "          1       0.47      0.16      0.24        49\n",
      "\n",
      "avg / total       0.71      0.76      0.71       210\n",
      "\n"
     ]
    }
   ],
   "source": [
    "from sklearn.metrics import classification_report\n",
    "print(classification_report(y_test, y_pred))"
   ]
  },
  {
   "cell_type": "markdown",
   "metadata": {},
   "source": [
    "From the classification report, we know that out of all teams that are predicted to make the playoffs the following year, 71 percent actually made the playoffs. Also, we know that the of the teams that make the playoffs the following year, 76 percent of them are predicted correctly. I'm not entirely sure that my interpretation of the precision and recall score are entirely correct, but from some research  online, that's what I've come across. Below, we have the ROC curve."
   ]
  },
  {
   "cell_type": "code",
   "execution_count": 59,
   "metadata": {},
   "outputs": [
    {
     "data": {
      "image/png": "[encoded data removed]",
      "text/plain": [
       "<matplotlib.figure.Figure at 0x11559d208>"
      ]
     },
     "metadata": {},
     "output_type": "display_data"
    }
   ],
   "source": [
    "from sklearn.metrics import roc_auc_score\n",
    "from sklearn.metrics import roc_curve\n",
    "logit_roc_auc = roc_auc_score(y_test, logreg.predict(X_test))\n",
    "fpr, tpr, thresholds = roc_curve(y_test, logreg.predict_proba(X_test)[:,1])\n",
    "plt.figure()\n",
    "plt.plot(fpr, tpr, label='Logistic Regression (area = %0.2f)' % logit_roc_auc)\n",
    "plt.plot([0, 1], [0, 1],'r--')\n",
    "plt.xlim([0.0, 1.0])\n",
    "plt.ylim([0.0, 1.05])\n",
    "plt.xlabel('False Positive Rate')\n",
    "plt.ylabel('True Positive Rate')\n",
    "plt.title('Receiver operating characteristic')\n",
    "plt.legend(loc=\"lower right\")\n",
    "plt.savefig('Log_ROC')\n",
    "plt.show()"
   ]
  },
  {
   "cell_type": "markdown",
   "metadata": {},
   "source": [
    "For the entire curve, although jagged at places, the true positive rate is greater than the false positive rate. Since the dotted lines means that the classifier is purely random, we want our curve to be as far above the curve as possible. For the most part, I think we did very well."
   ]
  },
  {
   "cell_type": "markdown",
   "metadata": {},
   "source": [
    "Now, let's try other classification models and see how they compare with logistic regression."
   ]
  },
  {
   "cell_type": "code",
   "execution_count": 22,
   "metadata": {},
   "outputs": [],
   "source": [
    "def run_model(model, alg_name, plot_index):\n",
    "    # build the model on training data\n",
    "    model.fit(X_train, y_train)\n",
    "\n",
    "    # make predictions for test data\n",
    "    y_pred = model.predict(X_test)\n",
    "    # calculate the accuracy score\n",
    "    accuracy =  accuracy_score(y_test, y_pred) * 100\n",
    "    return accuracy"
   ]
  },
  {
   "cell_type": "code",
   "execution_count": 29,
   "metadata": {},
   "outputs": [
    {
     "name": "stdout",
     "output_type": "stream",
     "text": [
      "75.71428571428571\n",
      "72.38095238095238\n",
      "76.66666666666667\n",
      "74.28571428571429\n",
      "75.71428571428571\n",
      "75.71428571428571\n",
      "75.23809523809524\n"
     ]
    },
    {
     "name": "stderr",
     "output_type": "stream",
     "text": [
      "/Users/HuanLiang/anaconda3/lib/python3.6/site-packages/sklearn/preprocessing/label.py:151: DeprecationWarning: The truth value of an empty array is ambiguous. Returning False, but in future this will result in an error. Use `array.size > 0` to check that an array is not empty.\n",
      "  if diff:\n",
      "/Users/HuanLiang/anaconda3/lib/python3.6/site-packages/sklearn/linear_model/stochastic_gradient.py:128: FutureWarning: max_iter and tol parameters have been added in <class 'sklearn.linear_model.stochastic_gradient.SGDClassifier'> in 0.19. If both are left unset, they default to max_iter=5 and tol=None. If tol is not None, max_iter defaults to max_iter=1000. From 0.21, default max_iter will be 1000, and default tol will be 1e-3.\n",
      "  \"and default tol will be 1e-3.\" % type(self), FutureWarning)\n"
     ]
    }
   ],
   "source": [
    "from sklearn.ensemble import RandomForestClassifier\n",
    "\n",
    "model = RandomForestClassifier(n_estimators=10)\n",
    "print(run_model(model, \"Random Forest\", 10))\n",
    "\n",
    "from xgboost import XGBClassifier\n",
    "\n",
    "model = XGBClassifier()\n",
    "print(run_model(model, \"XGBoost\", 3))\n",
    "\n",
    "# ------ SVM Classifier ----------------\n",
    "from sklearn.svm import SVC\n",
    "model = SVC()\n",
    "print(run_model(model, \"SVM Classifier\", 4))\n",
    "\n",
    "# -------- Nearest Neighbors ----------\n",
    "from sklearn import neighbors\n",
    "model = neighbors.KNeighborsClassifier()\n",
    "print(run_model(model, \"Nearest Neighbors Classifier\", 5))\n",
    "\n",
    "# ---------- SGD Classifier -----------------\n",
    "from sklearn.linear_model import SGDClassifier\n",
    "from sklearn.multiclass import OneVsRestClassifier\n",
    "\n",
    "model = OneVsRestClassifier(SGDClassifier())\n",
    "print(run_model(model, \"SGD Classifier\", 6))\n",
    "\n",
    "# --------- Gaussian Naive Bayes ---------\n",
    "from sklearn.naive_bayes import GaussianNB\n",
    "\n",
    "model = GaussianNB()\n",
    "print(run_model(model, \"Gaussian Naive Bayes\", 7))\n",
    "\n",
    "# ----------- Neural network - Multi-layer Perceptron  ------------\n",
    "from sklearn.neural_network import MLPClassifier\n",
    "\n",
    "model = MLPClassifier()\n",
    "print(run_model(model, \" MLP Neural network \", 8))"
   ]
  },
  {
   "cell_type": "markdown",
   "metadata": {},
   "source": [
    "To be honest, there is not one classification model that immediately outranks the rest. The two models that do as well as the logistic regression are the random forest and nearest neighbors."
   ]
  },
  {
   "cell_type": "markdown",
   "metadata": {},
   "source": [
    "This is where I have chosen to halt the project for the time being. There are many more areas I could explore, such as grouping different variables into bins, such as a certain range of wins as one bin and another range as another bin, etc. Also, I could explore other variables, transform them to make the most sense in predicting probability of playoff appearance. All in all, I hope you enjoyed reading about my model and how I came to create this. Let me know if you have any suggestions in improving the model! "
   ]
  }
 ],
 "metadata": {
  "kernelspec": {
   "display_name": "Python 3",
   "language": "python",
   "name": "python3"
  },
  "language_info": {
   "codemirror_mode": {
    "name": "ipython",
    "version": 3
   },
   "file_extension": ".py",
   "mimetype": "text/x-python",
   "name": "python",
   "nbconvert_exporter": "python",
   "pygments_lexer": "ipython3",
   "version": "3.6.4"
  }
 },
 "nbformat": 4,
 "nbformat_minor": 2
}
